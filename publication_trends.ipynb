{
 "cells": [
  {
   "cell_type": "code",
   "execution_count": 11,
   "metadata": {},
   "outputs": [],
   "source": [
    "from pyspark.sql import SparkSession\n",
    "from pyspark.sql.functions import explode, col, count, desc, trim, array_contains\n",
    "from pyspark.sql.window import Window\n",
    "from pyspark.sql.functions import row_number"
   ]
  },
  {
   "cell_type": "code",
   "execution_count": 2,
   "metadata": {},
   "outputs": [],
   "source": [
    "# Initialize Spark Session\n",
    "spark = SparkSession.builder \\\n",
    "    .appName(\"PublicationTrendsAnalysis\") \\\n",
    "    .getOrCreate()"
   ]
  },
  {
   "cell_type": "code",
   "execution_count": 3,
   "metadata": {},
   "outputs": [],
   "source": [
    "# Load JSON data\n",
    "df = spark.read.json(\"dblp_v14.json\")"
   ]
  },
  {
   "cell_type": "code",
   "execution_count": 4,
   "metadata": {},
   "outputs": [],
   "source": [
    "# Remove corrupt records\n",
    "df_cleaned = df.filter(col(\"_corrupt_record\").isNull())"
   ]
  },
  {
   "cell_type": "code",
   "execution_count": 5,
   "metadata": {},
   "outputs": [],
   "source": [
    "# Drop rows where authors, year, n_citation, or title is null\n",
    "df_cleaned = df_cleaned.dropna(subset=[\"authors\", \"year\", \"n_citation\", \"title\"])"
   ]
  },
  {
   "cell_type": "code",
   "execution_count": 6,
   "metadata": {},
   "outputs": [],
   "source": [
    "# Drop duplicate rows\n",
    "df_cleaned = df_cleaned.dropDuplicates()"
   ]
  },
  {
   "cell_type": "code",
   "execution_count": 7,
   "metadata": {},
   "outputs": [],
   "source": [
    "# Ensure 'year' is an integer\n",
    "df_cleaned = df_cleaned.withColumn(\"year\", col(\"year\").cast(\"int\"))"
   ]
  },
  {
   "cell_type": "code",
   "execution_count": 8,
   "metadata": {},
   "outputs": [],
   "source": [
    "# Trim whitespace from 'title' and 'abstract'\n",
    "df_cleaned = df_cleaned.withColumn(\"title\", trim(col(\"title\")))\n",
    "df_cleaned = df_cleaned.withColumn(\"abstract\", trim(col(\"abstract\")))"
   ]
  },
  {
   "cell_type": "code",
   "execution_count": 12,
   "metadata": {},
   "outputs": [],
   "source": [
    "# Check for duplicate records for 2009 \"data mining\"\n",
    "df_2009_datamining = df_cleaned.filter((col(\"year\") == 2009) & array_contains(col(\"keywords\"), \"data mining\"))\n"
   ]
  },
  {
   "cell_type": "code",
   "execution_count": 13,
   "metadata": {},
   "outputs": [],
   "source": [
    "# Count the total number of records\n",
    "total_count = df_2009_datamining.count()"
   ]
  },
  {
   "cell_type": "code",
   "execution_count": 14,
   "metadata": {},
   "outputs": [],
   "source": [
    "# Drop duplicates based on relevant columns (e.g., authors, title)\n",
    "df_2009_datamining_deduped = df_2009_datamining.dropDuplicates([\"authors\", \"title\"])\n"
   ]
  },
  {
   "cell_type": "code",
   "execution_count": 15,
   "metadata": {},
   "outputs": [],
   "source": [
    "# Count the number of records after dropping duplicates\n",
    "deduped_count = df_2009_datamining_deduped.count()"
   ]
  },
  {
   "cell_type": "code",
   "execution_count": 16,
   "metadata": {},
   "outputs": [],
   "source": [
    "# Calculate the number of duplicate records\n",
    "duplicate_count = total_count - deduped_count"
   ]
  },
  {
   "cell_type": "code",
   "execution_count": 17,
   "metadata": {},
   "outputs": [
    {
     "name": "stdout",
     "output_type": "stream",
     "text": [
      "Total records for 2009 'data mining': 17271\n",
      "Records after removing duplicates: 17271\n",
      "Number of duplicate records: 0\n"
     ]
    }
   ],
   "source": [
    "print(f\"Total records for 2009 'data mining': {total_count}\")\n",
    "print(f\"Records after removing duplicates: {deduped_count}\")\n",
    "print(f\"Number of duplicate records: {duplicate_count}\")"
   ]
  },
  {
   "cell_type": "code",
   "execution_count": null,
   "metadata": {},
   "outputs": [],
   "source": [
    "# If duplicates are found, use the deduped dataframe for further analysis\n",
    "if duplicate_count > 0:\n",
    "    df_cleaned = df_cleaned.subtract(df_2009_datamining).union(df_2009_datamining_deduped)\n"
   ]
  },
  {
   "cell_type": "code",
   "execution_count": 18,
   "metadata": {},
   "outputs": [],
   "source": [
    "# Explode keywords and select relevant columns\n",
    "df_keywords = df_cleaned.select(\n",
    "    col(\"year\"),\n",
    "    explode(col(\"keywords\")).alias(\"keyword\")\n",
    ").filter(col(\"keyword\").isNotNull())"
   ]
  },
  {
   "cell_type": "code",
   "execution_count": 19,
   "metadata": {},
   "outputs": [],
   "source": [
    "# Group by year and keyword, then count the number of publications\n",
    "df_trends = df_keywords.groupBy(\"year\", \"keyword\").agg(count(\"*\").alias(\"publication_count\"))\n"
   ]
  },
  {
   "cell_type": "code",
   "execution_count": 20,
   "metadata": {},
   "outputs": [],
   "source": [
    "# Define a window specification to rank keywords by publication count within each year\n",
    "window_spec = Window.partitionBy(\"year\").orderBy(desc(\"publication_count\"))"
   ]
  },
  {
   "cell_type": "code",
   "execution_count": 21,
   "metadata": {},
   "outputs": [],
   "source": [
    "# Add a row number to each keyword within each year based on the publication count\n",
    "df_ranked = df_trends.withColumn(\"rank\", row_number().over(window_spec))"
   ]
  },
  {
   "cell_type": "code",
   "execution_count": 22,
   "metadata": {},
   "outputs": [],
   "source": [
    "# Filter to get the top keyword for each year\n",
    "df_top_keywords = df_ranked.filter(col(\"rank\") == 1).select(\"year\", \"keyword\", \"publication_count\")\n"
   ]
  },
  {
   "cell_type": "code",
   "execution_count": 23,
   "metadata": {},
   "outputs": [],
   "source": [
    "# Sort the result by year in descending order\n",
    "df_sorted = df_top_keywords.orderBy(desc(\"year\"))"
   ]
  },
  {
   "cell_type": "code",
   "execution_count": 24,
   "metadata": {},
   "outputs": [],
   "source": [
    "df_sorted = df_sorted.filter(col(\"keyword\") != \"Conferences\")"
   ]
  },
  {
   "cell_type": "code",
   "execution_count": 25,
   "metadata": {},
   "outputs": [],
   "source": [
    "# Limit the result to 25 rows\n",
    "df_limited = df_sorted.limit(25)"
   ]
  },
  {
   "cell_type": "code",
   "execution_count": 17,
   "metadata": {},
   "outputs": [
    {
     "name": "stdout",
     "output_type": "stream",
     "text": [
      "+----+------------------+-----------------+\n",
      "|year|           keyword|publication_count|\n",
      "+----+------------------+-----------------+\n",
      "|2023|     deep learning|               28|\n",
      "|2022|     Deep learning|             2867|\n",
      "|2020|     Deep learning|             2144|\n",
      "|2019|      Optimization|             2607|\n",
      "|2018|      Optimization|             2671|\n",
      "|2017|      Optimization|             2040|\n",
      "|2016|      Optimization|             1535|\n",
      "|2015|      optimization|             1334|\n",
      "|2014|feature extraction|             4259|\n",
      "|2013|feature extraction|             3556|\n",
      "|2012|feature extraction|             3739|\n",
      "|2011|feature extraction|             3683|\n",
      "|2010|       data mining|             3635|\n",
      "|2009|       data mining|            17361|\n",
      "|2008|       data mining|             4681|\n",
      "|2007|       data mining|             2752|\n",
      "|2006|  computer science|             2758|\n",
      "|2005|          internet|             2766|\n",
      "|2004|          internet|             2138|\n",
      "|2003|          internet|             1854|\n",
      "+----+------------------+-----------------+\n",
      "\n"
     ]
    }
   ],
   "source": [
    "df_limited.show()"
   ]
  },
  {
   "cell_type": "code",
   "execution_count": 26,
   "metadata": {},
   "outputs": [],
   "source": [
    "df_limited.write.json(\"publication_trends25.json\")"
   ]
  }
 ],
 "metadata": {
  "kernelspec": {
   "display_name": "Python 3",
   "language": "python",
   "name": "python3"
  },
  "language_info": {
   "codemirror_mode": {
    "name": "ipython",
    "version": 3
   },
   "file_extension": ".py",
   "mimetype": "text/x-python",
   "name": "python",
   "nbconvert_exporter": "python",
   "pygments_lexer": "ipython3",
   "version": "3.12.4"
  }
 },
 "nbformat": 4,
 "nbformat_minor": 2
}
