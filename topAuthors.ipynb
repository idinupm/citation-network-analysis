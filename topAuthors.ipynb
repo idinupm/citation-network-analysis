{
 "cells": [
  {
   "cell_type": "code",
   "execution_count": 21,
   "metadata": {},
   "outputs": [],
   "source": [
    "from pyspark.sql import SparkSession\n",
    "from pyspark.sql.functions import explode, col, sum as _sum, when, trim, max as _max\n"
   ]
  },
  {
   "cell_type": "code",
   "execution_count": 2,
   "metadata": {},
   "outputs": [],
   "source": [
    "# Initialize Spark session\n",
    "spark = SparkSession.builder.appName(\"TopAuthorsByCitation\").getOrCreate()"
   ]
  },
  {
   "cell_type": "code",
   "execution_count": 25,
   "metadata": {},
   "outputs": [],
   "source": [
    "# Load JSON data\n",
    "df = spark.read.json(\"C:\\\\Users\\\\wmizz\\\\Desktop\\\\sem6\\\\CSC4406\\\\Project\\\\dblp_v14.json\")"
   ]
  },
  {
   "cell_type": "code",
   "execution_count": 26,
   "metadata": {},
   "outputs": [],
   "source": [
    "# Clean the data: \n",
    "# 1. Remove rows with corrupted records\n",
    "# 2. Fill null values in necessary columns\n",
    "clean_df = df.filter(df._corrupt_record.isNull())\n",
    "\n",
    "# Fill null values with default values\n",
    "clean_df = clean_df.fillna({\"n_citation\": 0})\n",
    "\n",
    "# Explode the authors array to create a row for each author\n",
    "exploded_df = clean_df.select(explode(col(\"authors\")).alias(\"author\"), col(\"n_citation\"))\n",
    "\n",
    "# Filter out null authors and null author fields\n",
    "exploded_df = exploded_df.filter(col(\"author\").isNotNull())\n",
    "exploded_df = exploded_df.filter(col(\"author.id\").isNotNull() & (trim(col(\"author.id\")) != ''))\n",
    "\n",
    "# Handle nulls in nested fields\n",
    "exploded_df = exploded_df.withColumn(\"author_id\", col(\"author.id\"))\n",
    "exploded_df = exploded_df.withColumn(\"author_name\", when(col(\"author.name\").isNotNull(), col(\"author.name\")).otherwise(\"Unknown\"))"
   ]
  },
  {
   "cell_type": "code",
   "execution_count": 27,
   "metadata": {},
   "outputs": [],
   "source": [
    "# Select the necessary columns and group by author id, summing up the citations\n",
    "author_citations_df = exploded_df.groupBy(\"author_id\").agg(\n",
    "    _sum(\"n_citation\").alias(\"total_citations\"),\n",
    "    _max(\"author_name\").alias(\"author_name\")  # To show the author's name alongside their ID\n",
    ")\n",
    "\n",
    "# Order by total citations in descending order and select the top 10 author IDs\n",
    "top_authors_df = author_citations_df.orderBy(col(\"total_citations\").desc()).limit(10)"
   ]
  },
  {
   "cell_type": "code",
   "execution_count": 28,
   "metadata": {},
   "outputs": [
    {
     "name": "stdout",
     "output_type": "stream",
     "text": [
      "+------------------------+---------------+------------------+\n",
      "|author_id               |total_citations|author_name       |\n",
      "+------------------------+---------------+------------------+\n",
      "|53f4ba75dabfaed83977b7db|537922         |yoshua bengio dept|\n",
      "|53f366a7dabfae4b3499c6fe|399813         |geoffrey e hinton |\n",
      "|53f46ca8dabfaec09f2584aa|373318         |andrew zisserman  |\n",
      "|53f431badabfaee02ac9803b|338000         |kaiming he        |\n",
      "|53f458fcdabfaeecd69f5094|309489         |ilya sutskever    |\n",
      "|53f43097dabfaedf4353f3bc|304473         |jian sun          |\n",
      "|5405bdaadabfae92b41fb68a|250006         |Simonyan, Karen   |\n",
      "|53f4340adabfaec22ba6a6f8|242899         |ross girshick     |\n",
      "|53f42b4fdabfaedce54a3fe9|241463         |shaoqing ren      |\n",
      "|53f48919dabfaee4dc8b219c|222377         |yann lecun        |\n",
      "+------------------------+---------------+------------------+\n",
      "\n"
     ]
    }
   ],
   "source": [
    "# Show the top 10 authors with the most citations\n",
    "top_authors_df.show(truncate=False)"
   ]
  },
  {
   "cell_type": "code",
   "execution_count": 29,
   "metadata": {},
   "outputs": [],
   "source": [
    "top_authors_df.write.json(\"top_authors\")"
   ]
  }
 ],
 "metadata": {
  "kernelspec": {
   "display_name": "Python 3",
   "language": "python",
   "name": "python3"
  },
  "language_info": {
   "codemirror_mode": {
    "name": "ipython",
    "version": 3
   },
   "file_extension": ".py",
   "mimetype": "text/x-python",
   "name": "python",
   "nbconvert_exporter": "python",
   "pygments_lexer": "ipython3",
   "version": "3.12.4"
  }
 },
 "nbformat": 4,
 "nbformat_minor": 2
}
