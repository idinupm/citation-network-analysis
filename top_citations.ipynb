{
 "cells": [
  {
   "cell_type": "code",
   "execution_count": 9,
   "metadata": {},
   "outputs": [],
   "source": [
    "from pyspark.sql import SparkSession\n",
    "from pyspark.sql.functions import explode, col, desc, sum as _sum, trim, when"
   ]
  },
  {
   "cell_type": "code",
   "execution_count": 2,
   "metadata": {},
   "outputs": [],
   "source": [
    "# Initialize Spark Session\n",
    "spark = SparkSession.builder.appName(\"ResearchAnalysis\").getOrCreate()"
   ]
  },
  {
   "cell_type": "code",
   "execution_count": 3,
   "metadata": {},
   "outputs": [],
   "source": [
    "# Load JSON data\n",
    "df = spark.read.json(\"C:\\\\Users\\\\wmizz\\\\Desktop\\\\sem6\\\\CSC4406\\\\Project\\\\dblp_v14.json\")"
   ]
  },
  {
   "cell_type": "code",
   "execution_count": 4,
   "metadata": {},
   "outputs": [],
   "source": [
    "# Remove corrupt records\n",
    "df = df.filter(col(\"_corrupt_record\").isNull())"
   ]
  },
  {
   "cell_type": "code",
   "execution_count": 5,
   "metadata": {},
   "outputs": [],
   "source": [
    "# Drop rows where authors, year, n_citation, or title is null\n",
    "df = df.dropna(subset=[\"authors\", \"year\", \"n_citation\", \"title\"])"
   ]
  },
  {
   "cell_type": "code",
   "execution_count": 6,
   "metadata": {},
   "outputs": [],
   "source": [
    "# Drop duplicate rows\n",
    "df = df.dropDuplicates()"
   ]
  },
  {
   "cell_type": "code",
   "execution_count": 7,
   "metadata": {},
   "outputs": [],
   "source": [
    "# Ensure 'year' is an integer\n",
    "df = df.withColumn(\"year\", col(\"year\").cast(\"int\"))"
   ]
  },
  {
   "cell_type": "code",
   "execution_count": 8,
   "metadata": {},
   "outputs": [],
   "source": [
    "# Trim whitespace from 'title' and 'abstract'\n",
    "df = df.withColumn(\"title\", trim(col(\"title\")))\n",
    "df = df.withColumn(\"abstract\", trim(col(\"abstract\")))"
   ]
  },
  {
   "cell_type": "code",
   "execution_count": 14,
   "metadata": {},
   "outputs": [],
   "source": [
    "# Research Areas with Highest Impact\n",
    "# Explode the fos array to analyze each field of study individually\n",
    "fos_df = df.select(explode(\"fos\").alias(\"field_of_study\"), \"n_citation\")"
   ]
  },
  {
   "cell_type": "code",
   "execution_count": 15,
   "metadata": {},
   "outputs": [],
   "source": [
    "# Aggregate citations by field of study\n",
    "top_research_areas = fos_df.groupBy(\"field_of_study.name\") \\\n",
    "                           .agg(_sum(\"n_citation\").alias(\"total_citations\")) \\\n",
    "                           .orderBy(desc(\"total_citations\")) \\\n",
    "                           .limit(10)"
   ]
  },
  {
   "cell_type": "code",
   "execution_count": 16,
   "metadata": {},
   "outputs": [
    {
     "name": "stdout",
     "output_type": "stream",
     "text": [
      "+--------------------+---------------+\n",
      "|                name|total_citations|\n",
      "+--------------------+---------------+\n",
      "|    Computer science|       72340451|\n",
      "|Artificial intell...|       33074426|\n",
      "|         Mathematics|       19431528|\n",
      "|    Machine learning|       15006056|\n",
      "|     Computer vision|       12390401|\n",
      "| Pattern recognition|       11739926|\n",
      "|         Data mining|       10174712|\n",
      "|Mathematical opti...|        9388651|\n",
      "|    Computer network|        7787029|\n",
      "|Distributed compu...|        7758253|\n",
      "+--------------------+---------------+\n",
      "\n"
     ]
    }
   ],
   "source": [
    "# Display Research Areas with Highest Impact\n",
    "top_research_areas.show()"
   ]
  },
  {
   "cell_type": "code",
   "execution_count": 17,
   "metadata": {},
   "outputs": [],
   "source": [
    "top_research_areas.write.json(\"top_research_areas\")"
   ]
  },
  {
   "cell_type": "code",
   "execution_count": 13,
   "metadata": {},
   "outputs": [],
   "source": [
    "# Institutions with Highest Impact\n",
    "# Explode the authors array to analyze each author individually and extract institutions\n",
    "institutions_df = df.select(explode(\"authors\").alias(\"author\"), \"n_citation\")\n"
   ]
  },
  {
   "cell_type": "code",
   "execution_count": 14,
   "metadata": {},
   "outputs": [],
   "source": [
    "# Filter out rows with null or empty organization names\n",
    "institutions_df = institutions_df.filter(trim(col(\"author.org\")) != \"\")"
   ]
  },
  {
   "cell_type": "code",
   "execution_count": 18,
   "metadata": {},
   "outputs": [],
   "source": [
    "# Filter out entries labeled as \"Corresponding author\"\n",
    "cleaned_institutions_df = institutions_df.filter(col(\"author.org\") != \"Corresponding author.\")\n"
   ]
  },
  {
   "cell_type": "code",
   "execution_count": 19,
   "metadata": {},
   "outputs": [],
   "source": [
    "# Now, proceed with the aggregation and analysis steps\n",
    "# Aggregate citations by institution\n",
    "top_institutions = cleaned_institutions_df.groupBy(\"author.org\") \\\n",
    "                                          .agg(_sum(\"n_citation\").alias(\"total_citations\")) \\\n",
    "                                          .orderBy(desc(\"total_citations\")) \\\n",
    "                                          .limit(10)"
   ]
  },
  {
   "cell_type": "code",
   "execution_count": 17,
   "metadata": {},
   "outputs": [
    {
     "name": "stdout",
     "output_type": "stream",
     "text": [
      "+--------------------+---------------+\n",
      "|                 org|total_citations|\n",
      "+--------------------+---------------+\n",
      "|  Microsoft Research|        1158633|\n",
      "|Corresponding aut...|        1122135|\n",
      "| Stanford University|         837854|\n",
      "|              Google|         817131|\n",
      "|Google Brain, Mou...|         730766|\n",
      "|Carnegie Mellon U...|         691218|\n",
      "|                IEEE|         676826|\n",
      "|University of Cal...|         591633|\n",
      "| stanford university|         551184|\n",
      "|Université de Mon...|         497980|\n",
      "+--------------------+---------------+\n",
      "\n"
     ]
    }
   ],
   "source": [
    "# Display Institutions with Highest Impact\n",
    "top_institutions.show()"
   ]
  },
  {
   "cell_type": "code",
   "execution_count": 20,
   "metadata": {},
   "outputs": [],
   "source": [
    "top_institutions.write.json(\"top_institutions\")"
   ]
  },
  {
   "cell_type": "code",
   "execution_count": 21,
   "metadata": {},
   "outputs": [],
   "source": [
    "spark.stop()"
   ]
  }
 ],
 "metadata": {
  "kernelspec": {
   "display_name": "Python 3",
   "language": "python",
   "name": "python3"
  },
  "language_info": {
   "codemirror_mode": {
    "name": "ipython",
    "version": 3
   },
   "file_extension": ".py",
   "mimetype": "text/x-python",
   "name": "python",
   "nbconvert_exporter": "python",
   "pygments_lexer": "ipython3",
   "version": "3.12.4"
  }
 },
 "nbformat": 4,
 "nbformat_minor": 2
}
